{
 "cells": [
  {
   "cell_type": "code",
   "execution_count": 1,
   "metadata": {},
   "outputs": [],
   "source": [
    "import numpy as pd;\n"
   ]
  },
  {
   "cell_type": "code",
   "execution_count": 2,
   "metadata": {},
   "outputs": [
    {
     "ename": "SyntaxError",
     "evalue": "Missing parentheses in call to 'print'. Did you mean print(\"Hello\")? (<ipython-input-2-dabf489e9f92>, line 1)",
     "output_type": "error",
     "traceback": [
      "\u001b[1;36m  File \u001b[1;32m\"<ipython-input-2-dabf489e9f92>\"\u001b[1;36m, line \u001b[1;32m1\u001b[0m\n\u001b[1;33m    print \"Hello\"\u001b[0m\n\u001b[1;37m          ^\u001b[0m\n\u001b[1;31mSyntaxError\u001b[0m\u001b[1;31m:\u001b[0m Missing parentheses in call to 'print'. Did you mean print(\"Hello\")?\n"
     ]
    }
   ],
   "source": [
    "print \"Hello\""
   ]
  },
  {
   "cell_type": "code",
   "execution_count": 3,
   "metadata": {},
   "outputs": [
    {
     "name": "stdout",
     "output_type": "stream",
     "text": [
      "Hello\n"
     ]
    }
   ],
   "source": [
    "print (\"Hello\")"
   ]
  },
  {
   "cell_type": "code",
   "execution_count": 4,
   "metadata": {},
   "outputs": [],
   "source": [
    "import os\n",
    "try:\n",
    "    user_paths = os.environ['PYTHONPATH'].split(os.pathsep)\n",
    "except KeyError:\n",
    "    user_paths = []\n"
   ]
  },
  {
   "cell_type": "code",
   "execution_count": 5,
   "metadata": {},
   "outputs": [
    {
     "name": "stdout",
     "output_type": "stream",
     "text": [
      "['C:\\\\Users\\\\Abhishek Mazumder', 'C:\\\\ANACONDA_IDE\\\\python38.zip', 'C:\\\\ANACONDA_IDE\\\\DLLs', 'C:\\\\ANACONDA_IDE\\\\lib', 'C:\\\\ANACONDA_IDE', '', 'C:\\\\ANACONDA_IDE\\\\lib\\\\site-packages', 'C:\\\\ANACONDA_IDE\\\\lib\\\\site-packages\\\\win32', 'C:\\\\ANACONDA_IDE\\\\lib\\\\site-packages\\\\win32\\\\lib', 'C:\\\\ANACONDA_IDE\\\\lib\\\\site-packages\\\\Pythonwin', 'C:\\\\ANACONDA_IDE\\\\lib\\\\site-packages\\\\IPython\\\\extensions', 'C:\\\\Users\\\\Abhishek Mazumder\\\\.ipython']\n"
     ]
    }
   ],
   "source": [
    "import sys\n",
    "print(sys.path)"
   ]
  },
  {
   "cell_type": "code",
   "execution_count": 3,
   "metadata": {},
   "outputs": [
    {
     "data": {
      "text/plain": [
       "'C:\\\\Users\\\\Abhishek Mazumder'"
      ]
     },
     "execution_count": 3,
     "metadata": {},
     "output_type": "execute_result"
    }
   ],
   "source": [
    "import os\n",
    "os.getcwd()"
   ]
  },
  {
   "cell_type": "code",
   "execution_count": 1,
   "metadata": {},
   "outputs": [
    {
     "name": "stdout",
     "output_type": "stream",
     "text": [
      "Collecting tabula\n",
      "  Downloading tabula-1.0.5.tar.gz (9.5 kB)\n",
      "Requirement already satisfied: setuptools in c:\\anaconda_ide\\lib\\site-packages (from tabula) (58.0.4)\n",
      "Requirement already satisfied: numpy in c:\\anaconda_ide\\lib\\site-packages (from tabula) (1.21.5)\n",
      "Building wheels for collected packages: tabula\n",
      "  Building wheel for tabula (setup.py): started\n",
      "  Building wheel for tabula (setup.py): finished with status 'done'\n",
      "  Created wheel for tabula: filename=tabula-1.0.5-py3-none-any.whl size=10601 sha256=1ab31bf438c217ee2232204d3ec6724a92cfaad2517b7b647cd1c67aaf01a5c1\n",
      "  Stored in directory: c:\\users\\abhishek mazumder\\appdata\\local\\pip\\cache\\wheels\\2e\\51\\35\\aa182d12911ffd4045285cffccb0e130b74e9b0c083310c161\n",
      "Successfully built tabula\n",
      "Installing collected packages: tabula\n",
      "Successfully installed tabula-1.0.5\n"
     ]
    }
   ],
   "source": [
    "!pip install tabula"
   ]
  },
  {
   "cell_type": "code",
   "execution_count": 3,
   "metadata": {},
   "outputs": [
    {
     "name": "stderr",
     "output_type": "stream",
     "text": [
      "Got stderr: Jul 08, 2023 5:58:12 PM org.apache.pdfbox.pdmodel.font.FileSystemFontProvider loadDiskCache\r\n",
      "WARNING: New fonts found, font cache will be re-built\r\n",
      "Jul 08, 2023 5:58:12 PM org.apache.pdfbox.pdmodel.font.FileSystemFontProvider <init>\r\n",
      "WARNING: Building on-disk font cache, this may take a while\r\n",
      "Jul 08, 2023 5:58:13 PM org.apache.pdfbox.pdmodel.font.FileSystemFontProvider <init>\r\n",
      "WARNING: Finished building on-disk font cache, found 394 fonts\r\n",
      "\n"
     ]
    }
   ],
   "source": [
    "import tabula\n",
    "\n",
    "# Set the path to your PDF file\n",
    "pdf_file = \"axio_expense_report_9718979752_1688817325638810.pdf\"\n",
    "\n",
    "# Set the path to the output CSV file\n",
    "csv_file = \"output.csv\"\n",
    "\n",
    "# Read tabular data from PDF\n",
    "dfs = tabula.read_pdf(pdf_file, pages=\"all\", multiple_tables=True)\n",
    "\n",
    "# Save the first table from DataFrame list to CSV\n",
    "dfs[0].to_csv(csv_file, index=False)\n"
   ]
  },
  {
   "cell_type": "code",
   "execution_count": 4,
   "metadata": {},
   "outputs": [],
   "source": [
    "import tabula\n",
    "import pandas as pd\n",
    "\n",
    "# Set the path to your PDF file\n",
    "pdf_file = \"axio_expense_report_9718979752_1688817325638810.pdf\"\n",
    "\n",
    "# Set the path to the output CSV file\n",
    "csv_file = \"output.csv\"\n",
    "\n",
    "# Read tabular data from PDF\n",
    "dfs = tabula.read_pdf(pdf_file, pages=\"all\", multiple_tables=True)\n",
    "\n",
    "# Concatenate all DataFrames into a single DataFrame\n",
    "combined_df = pd.concat(dfs)\n",
    "\n",
    "# Save the combined DataFrame to CSV\n",
    "combined_df.to_csv(csv_file, index=False)\n"
   ]
  },
  {
   "cell_type": "code",
   "execution_count": 3,
   "metadata": {},
   "outputs": [
    {
     "name": "stdout",
     "output_type": "stream",
     "text": [
      "C:\\Program Files\\gs\\gs10.01.2\\bin\n"
     ]
    }
   ],
   "source": [
    "path = r\"C:\\Program Files\\gs\\gs10.01.2\\bin\"\n",
    "print(path)"
   ]
  }
 ],
 "metadata": {
  "kernelspec": {
   "display_name": "Python 3 (ipykernel)",
   "language": "python",
   "name": "python3"
  },
  "language_info": {
   "codemirror_mode": {
    "name": "ipython",
    "version": 3
   },
   "file_extension": ".py",
   "mimetype": "text/x-python",
   "name": "python",
   "nbconvert_exporter": "python",
   "pygments_lexer": "ipython3",
   "version": "3.8.5"
  }
 },
 "nbformat": 4,
 "nbformat_minor": 4
}
